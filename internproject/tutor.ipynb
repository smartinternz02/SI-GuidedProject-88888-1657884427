{
 "cells": [
  {
   "cell_type": "code",
   "execution_count": 13,
   "id": "05a0d2f5",
   "metadata": {},
   "outputs": [],
   "source": [
    "from keras.preprocessing.image import ImageDataGenerator\n",
    "\n",
    "train_datagen = ImageDataGenerator(rescale = 1./255,\n",
    "                                   shear_range = 0.2,\n",
    "                                   zoom_range = 0.2,\n",
    "                                   horizontal_flip = True)\n",
    "\n",
    "test_datagen = ImageDataGenerator(rescale = 1./255)"
   ]
  },
  {
   "cell_type": "code",
   "execution_count": 14,
   "id": "87c6c0b2",
   "metadata": {},
   "outputs": [
    {
     "name": "stdout",
     "output_type": "stream",
     "text": [
      "Found 10941 images belonging to 3 classes.\n"
     ]
    }
   ],
   "source": [
    "x = train_datagen.flow_from_directory(r\"D:\\datasets\\tutor\\Dataset\\train\",\n",
    "                                                 target_size = (64, 64),\n",
    "                                                 batch_size = 32,\n",
    "                                                 class_mode = 'categorical')"
   ]
  },
  {
   "cell_type": "code",
   "execution_count": 15,
   "id": "5a9079fd",
   "metadata": {},
   "outputs": [
    {
     "name": "stdout",
     "output_type": "stream",
     "text": [
      "Found 300 images belonging to 3 classes.\n"
     ]
    }
   ],
   "source": [
    "y= test_datagen.flow_from_directory(r\"D:\\datasets\\tutor\\Dataset\\test\",\n",
    "                                                 target_size = (64, 64),\n",
    "                                                 batch_size = 32,\n",
    "                                                 class_mode = 'categorical')"
   ]
  },
  {
   "cell_type": "code",
   "execution_count": 16,
   "id": "f245b5ef",
   "metadata": {},
   "outputs": [],
   "source": [
    "from tensorflow.keras.models import Sequential\n",
    "from tensorflow.keras.layers import Conv2D\n",
    "from tensorflow.keras.layers import MaxPool2D\n",
    "from tensorflow.keras.layers import Flatten\n",
    "from tensorflow.keras.layers import Dense"
   ]
  },
  {
   "cell_type": "code",
   "execution_count": 27,
   "id": "803608d2",
   "metadata": {},
   "outputs": [],
   "source": [
    "model=Sequential()"
   ]
  },
  {
   "cell_type": "code",
   "execution_count": 28,
   "id": "82b18f13",
   "metadata": {},
   "outputs": [],
   "source": [
    "model.add(Conv2D(32,(3,3),activation='relu',input_shape=(64,64,3)))"
   ]
  },
  {
   "cell_type": "code",
   "execution_count": 29,
   "id": "9491d7f4",
   "metadata": {},
   "outputs": [],
   "source": [
    "model.add(MaxPool2D(2,2))"
   ]
  },
  {
   "cell_type": "code",
   "execution_count": 30,
   "id": "da18a5b0",
   "metadata": {},
   "outputs": [],
   "source": [
    "model.add(Conv2D(32,(3,3),activation='relu'))\n",
    "model.add(MaxPool2D(2,2))  "
   ]
  },
  {
   "cell_type": "code",
   "execution_count": 31,
   "id": "b4f471b2",
   "metadata": {},
   "outputs": [],
   "source": [
    "model.add(Flatten())"
   ]
  },
  {
   "cell_type": "code",
   "execution_count": 32,
   "id": "98ff300f",
   "metadata": {},
   "outputs": [],
   "source": [
    "model.add(Dense(32))\n",
    "model.add(Dense(3,activation='softmax'))"
   ]
  },
  {
   "cell_type": "code",
   "execution_count": 33,
   "id": "ba1ee5fc",
   "metadata": {},
   "outputs": [],
   "source": [
    "model.compile(loss='categorical_crossentropy',optimizer='adam',metrics=['accuracy'])"
   ]
  },
  {
   "cell_type": "code",
   "execution_count": 34,
   "id": "3fa2d4a2",
   "metadata": {},
   "outputs": [
    {
     "name": "stdout",
     "output_type": "stream",
     "text": [
      "Epoch 1/5\n"
     ]
    },
    {
     "name": "stderr",
     "output_type": "stream",
     "text": [
      "C:\\Users\\amang\\AppData\\Local\\Temp\\ipykernel_64568\\1110302286.py:1: UserWarning: `Model.fit_generator` is deprecated and will be removed in a future version. Please use `Model.fit`, which supports generators.\n",
      "  model.fit_generator(\n"
     ]
    },
    {
     "name": "stdout",
     "output_type": "stream",
     "text": [
      "342/342 [==============================] - 162s 471ms/step - loss: 0.1005 - accuracy: 0.9634 - val_loss: 2.2040e-04 - val_accuracy: 1.0000\n",
      "Epoch 2/5\n",
      "342/342 [==============================] - 41s 119ms/step - loss: 0.0036 - accuracy: 0.9989 - val_loss: 6.9151e-05 - val_accuracy: 1.0000\n",
      "Epoch 3/5\n",
      "342/342 [==============================] - 31s 91ms/step - loss: 0.0023 - accuracy: 0.9995 - val_loss: 1.8747e-05 - val_accuracy: 1.0000\n",
      "Epoch 4/5\n",
      "342/342 [==============================] - 32s 94ms/step - loss: 0.0015 - accuracy: 0.9995 - val_loss: 2.7776e-07 - val_accuracy: 1.0000\n",
      "Epoch 5/5\n",
      "342/342 [==============================] - 33s 97ms/step - loss: 0.0015 - accuracy: 0.9996 - val_loss: 1.3188e-06 - val_accuracy: 1.0000\n"
     ]
    },
    {
     "data": {
      "text/plain": [
       "<keras.callbacks.History at 0x215b3580fd0>"
      ]
     },
     "execution_count": 34,
     "metadata": {},
     "output_type": "execute_result"
    }
   ],
   "source": [
    " model.fit_generator(\n",
    "  x,\n",
    "  validation_data=y,\n",
    "  epochs=5,\n",
    "  steps_per_epoch=len(x),\n",
    "  validation_steps=len(y)\n",
    ")"
   ]
  },
  {
   "cell_type": "code",
   "execution_count": 35,
   "id": "2215f52a",
   "metadata": {},
   "outputs": [],
   "source": [
    "model.save('tutormath.h5')"
   ]
  },
  {
   "cell_type": "code",
   "execution_count": 44,
   "id": "4ff7bb01",
   "metadata": {},
   "outputs": [],
   "source": [
    "from tensorflow.keras.models import load_model"
   ]
  },
  {
   "cell_type": "code",
   "execution_count": 50,
   "id": "e7fd7b9e",
   "metadata": {},
   "outputs": [],
   "source": [
    "from keras import utils\n",
    "import numpy as np"
   ]
  },
  {
   "cell_type": "code",
   "execution_count": 51,
   "id": "ffabc047",
   "metadata": {},
   "outputs": [],
   "source": [
    "model=load_model(\"tutormath.h5\")"
   ]
  },
  {
   "cell_type": "code",
   "execution_count": 56,
   "id": "55582043",
   "metadata": {},
   "outputs": [
    {
     "name": "stdout",
     "output_type": "stream",
     "text": [
      "1/1 [==============================] - 0s 17ms/step\n"
     ]
    },
    {
     "data": {
      "text/plain": [
       "array([[1., 0., 0.]], dtype=float32)"
      ]
     },
     "execution_count": 56,
     "metadata": {},
     "output_type": "execute_result"
    }
   ],
   "source": [
    "img = utils.load_img(r\"D:\\datasets\\tutor\\Dataset\\train\\circle\\100.png\",target_size= (64,64)) #Loading of the image\n",
    "x= utils.img_to_array(img) #image to array\n",
    "x= np.expand_dims(x, axis = 0)#changing the shape\n",
    "pred = model.predict(x)#predicting the classes\n",
    "pred"
   ]
  },
  {
   "cell_type": "code",
   "execution_count": null,
   "id": "d2e73754",
   "metadata": {},
   "outputs": [],
   "source": []
  },
  {
   "cell_type": "code",
   "execution_count": null,
   "id": "fed1d801",
   "metadata": {},
   "outputs": [],
   "source": []
  },
  {
   "cell_type": "code",
   "execution_count": null,
   "id": "b7008677",
   "metadata": {},
   "outputs": [],
   "source": []
  }
 ],
 "metadata": {
  "kernelspec": {
   "display_name": "Python 3 (ipykernel)",
   "language": "python",
   "name": "python3"
  },
  "language_info": {
   "codemirror_mode": {
    "name": "ipython",
    "version": 3
   },
   "file_extension": ".py",
   "mimetype": "text/x-python",
   "name": "python",
   "nbconvert_exporter": "python",
   "pygments_lexer": "ipython3",
   "version": "3.9.12"
  }
 },
 "nbformat": 4,
 "nbformat_minor": 5
}
